{
 "cells": [
  {
   "cell_type": "code",
   "execution_count": 91,
   "metadata": {
    "collapsed": false
   },
   "outputs": [],
   "source": [
    "import matplotlib.pyplot as plt\n",
    "plt.style.use(['ggplot', 'seaborn-whitegrid'])"
   ]
  },
  {
   "cell_type": "code",
   "execution_count": 89,
   "metadata": {
    "collapsed": false
   },
   "outputs": [
    {
     "data": {
      "text/plain": [
       "['seaborn-bright',\n",
       " 'fivethirtyeight',\n",
       " 'grayscale',\n",
       " 'seaborn-dark',\n",
       " 'seaborn-white',\n",
       " 'ggplot',\n",
       " 'bmh',\n",
       " 'seaborn-whitegrid',\n",
       " 'dark_background',\n",
       " 'seaborn-notebook',\n",
       " 'seaborn-deep',\n",
       " 'seaborn-ticks',\n",
       " 'seaborn-paper',\n",
       " 'seaborn-pastel',\n",
       " 'seaborn-darkgrid',\n",
       " 'classic',\n",
       " 'seaborn-dark-palette',\n",
       " 'seaborn-colorblind',\n",
       " 'seaborn-talk',\n",
       " 'seaborn-muted',\n",
       " 'seaborn-poster']"
      ]
     },
     "execution_count": 89,
     "metadata": {},
     "output_type": "execute_result"
    }
   ],
   "source": [
    "plt.style.available"
   ]
  },
  {
   "cell_type": "code",
   "execution_count": 19,
   "metadata": {
    "collapsed": false
   },
   "outputs": [],
   "source": [
    "#run this if you want to change excel sheet\n",
    "writer = pd.ExcelWriter('mediacloud.xlsx')\n",
    "harveydf.to_excel(writer,'Harvey')\n",
    "irmadf.to_excel(writer, 'Irma')\n",
    "mariadf.to_excel(writer, 'Maria')\n",
    "totaldf.to_excel(writer, 'Total')\n",
    "writer.save()"
   ]
  },
  {
   "cell_type": "code",
   "execution_count": 1,
   "metadata": {
    "collapsed": false,
    "scrolled": true
   },
   "outputs": [],
   "source": [
    "import mediacloud\n",
    "import json\n",
    "import datetime\n",
    "import nltk\n",
    "from nltk import sent_tokenize, word_tokenize, pos_tag\n",
    "from nltk.corpus import stopwords\n",
    "import string\n",
    "mc = mediacloud.api.MediaCloud('c8bf5d3fcd7298b3d4bbe5f7af7b9d6d56a984cf2788ae9738d998c5342d6e2e')\n",
    "\n",
    "#harvey\n",
    "fetch_size = 1000\n",
    "stories = []\n",
    "last_processed_stories_id = 0\n",
    "while len(stories) < 10000:\n",
    "    fetched_stories = mc.storyList('( hurricane AND harvey )', \n",
    "                                   solr_filter=[ mc.publish_date_query( datetime.date(2017,8,23), datetime.date(2017,10,2)), \n",
    "                                                                         'tags_id_media:1'],\n",
    "                                    last_processed_stories_id=last_processed_stories_id, rows= fetch_size)\n",
    "    stories.extend( fetched_stories)\n",
    "    if len( fetched_stories) < fetch_size:\n",
    "        break\n",
    "    \n",
    "    last_processed_stories_id = stories[-1]['processed_stories_id']\n",
    "    \n",
    "jason=json.dumps(stories)\n",
    "harveyarticles=json.loads(jason)"
   ]
  },
  {
   "cell_type": "code",
   "execution_count": 2,
   "metadata": {
    "collapsed": false
   },
   "outputs": [],
   "source": [
    "harveytitles=[(article['title'], article['media_name'], article['publish_date']) for article in harveyarticles]"
   ]
  },
  {
   "cell_type": "code",
   "execution_count": 3,
   "metadata": {
    "collapsed": false,
    "scrolled": true
   },
   "outputs": [],
   "source": [
    "import pandas as pd\n",
    "harveydf=pd.DataFrame(harveytitles)\n",
    "harveydf.columns=['Headline','Source', 'Date']"
   ]
  },
  {
   "cell_type": "code",
   "execution_count": 4,
   "metadata": {
    "collapsed": true
   },
   "outputs": [],
   "source": [
    "#irma\n",
    "fetch_size = 1000\n",
    "stories = []\n",
    "last_processed_stories_id = 0\n",
    "while len(stories) < 10000:\n",
    "    fetched_stories = mc.storyList('( hurricane AND irma )', \n",
    "                                   solr_filter=[ mc.publish_date_query( datetime.date(2017,8,23), datetime.date(2017,10,2)), \n",
    "                                                                         'tags_id_media:1'],\n",
    "                                    last_processed_stories_id=last_processed_stories_id, rows= fetch_size)\n",
    "    stories.extend( fetched_stories)\n",
    "    if len( fetched_stories) < fetch_size:\n",
    "        break\n",
    "    \n",
    "    last_processed_stories_id = stories[-1]['processed_stories_id']\n",
    "    \n",
    "jason=json.dumps(stories)\n",
    "irmaarticles=json.loads(jason)"
   ]
  },
  {
   "cell_type": "code",
   "execution_count": 5,
   "metadata": {
    "collapsed": true
   },
   "outputs": [],
   "source": [
    "irmatitles=[(article['title'], article['media_name'], article['publish_date']) for article in irmaarticles]"
   ]
  },
  {
   "cell_type": "code",
   "execution_count": 6,
   "metadata": {
    "collapsed": false
   },
   "outputs": [],
   "source": [
    "irmadf=pd.DataFrame(irmatitles)\n",
    "irmadf.columns=['Headline','Source', 'Date']"
   ]
  },
  {
   "cell_type": "code",
   "execution_count": 7,
   "metadata": {
    "collapsed": true
   },
   "outputs": [],
   "source": [
    "#maria\n",
    "fetch_size = 1000\n",
    "stories = []\n",
    "last_processed_stories_id = 0\n",
    "while len(stories) < 10000:\n",
    "    fetched_stories = mc.storyList('( hurricane AND maria )', \n",
    "                                   solr_filter=[ mc.publish_date_query( datetime.date(2017,8,23), datetime.date(2017,10,2)), \n",
    "                                                                         'tags_id_media:1'],\n",
    "                                    last_processed_stories_id=last_processed_stories_id, rows= fetch_size)\n",
    "    stories.extend( fetched_stories)\n",
    "    if len( fetched_stories) < fetch_size:\n",
    "        break\n",
    "    \n",
    "    last_processed_stories_id = stories[-1]['processed_stories_id']\n",
    "    \n",
    "jason=json.dumps(stories)\n",
    "mariaarticles=json.loads(jason)"
   ]
  },
  {
   "cell_type": "code",
   "execution_count": 8,
   "metadata": {
    "collapsed": true
   },
   "outputs": [],
   "source": [
    "mariatitles=[(article['title'], article['media_name'], article['publish_date']) for article in mariaarticles]"
   ]
  },
  {
   "cell_type": "code",
   "execution_count": 9,
   "metadata": {
    "collapsed": false
   },
   "outputs": [],
   "source": [
    "mariadf=pd.DataFrame(mariatitles)\n",
    "mariadf.columns=['Headline','Source', 'Date']"
   ]
  },
  {
   "cell_type": "code",
   "execution_count": 10,
   "metadata": {
    "collapsed": true
   },
   "outputs": [],
   "source": [
    "totaldf=pd.concat([harveydf, irmadf, mariadf])\n",
    "totaldf.drop_duplicates('Headline', inplace=True)\n",
    "totaldf=totaldf.sort_values(by='Date')"
   ]
  },
  {
   "cell_type": "code",
   "execution_count": 11,
   "metadata": {
    "collapsed": false
   },
   "outputs": [],
   "source": [
    "alltitles=[i for i in totaldf['Headline']]"
   ]
  },
  {
   "cell_type": "code",
   "execution_count": 12,
   "metadata": {
    "collapsed": false
   },
   "outputs": [],
   "source": [
    "wordlist=[]\n",
    "for headline in alltitles:\n",
    "    wordlist.append(word_tokenize(headline))"
   ]
  },
  {
   "cell_type": "code",
   "execution_count": 13,
   "metadata": {
    "collapsed": false
   },
   "outputs": [],
   "source": [
    "wordsupper=[item for sublist in wordlist for item in sublist]\n",
    "words=[word.lower() for word in wordsupper]\n",
    "punctuation = list(string.punctuation)\n",
    "random=['hurricane', 'harvey', 'irma', 'jose', 'maria']\n",
    "stops=set(stopwords.words('english')+punctuation+random)"
   ]
  },
  {
   "cell_type": "code",
   "execution_count": 14,
   "metadata": {
    "collapsed": false
   },
   "outputs": [],
   "source": [
    "def find_bigrams(words):\n",
    "  bigram_list = []\n",
    "  for i in range(len(words)-1):\n",
    "      bigram_list.append((words[i], words[i+1]))\n",
    "  return bigram_list\n",
    "bigrams=find_bigrams(words)"
   ]
  },
  {
   "cell_type": "code",
   "execution_count": 15,
   "metadata": {
    "collapsed": false
   },
   "outputs": [],
   "source": [
    "harvey_bigrams=pd.DataFrame([b for b in bigrams if (b[0] == 'harvey') and (b[1] not in stops)])\n",
    "irma_bigrams=pd.DataFrame([b for b in bigrams if (b[0]=='irma') and b[1] not in stops])\n",
    "maria_bigrams=pd.DataFrame([b for b in bigrams if (b[0]=='maria') and b[1] not in stops])"
   ]
  },
  {
   "cell_type": "code",
   "execution_count": 130,
   "metadata": {
    "collapsed": false
   },
   "outputs": [],
   "source": [
    "total_bigrams=pd.concat([harvey_bigrams, irma_bigrams, maria_bigrams])"
   ]
  },
  {
   "cell_type": "code",
   "execution_count": 17,
   "metadata": {
    "collapsed": false
   },
   "outputs": [],
   "source": [
    "writer = pd.ExcelWriter('mcbigrams.xlsx')\n",
    "total_bigrams.to_excel(writer, 'Bigrams')\n",
    "writer.save()"
   ]
  },
  {
   "cell_type": "code",
   "execution_count": 44,
   "metadata": {
    "collapsed": false
   },
   "outputs": [],
   "source": [
    "mentions=pd.read_excel('/Users/anna/Desktop/PRISMOJI/mediacloud.xlsx', \n",
    "                     sheetname=\"mentions\")\n",
    "mentions=pd.DataFrame(mentions)\n",
    "mentions[\"Date\"] = pd.to_datetime(mentions[\"Date\"])\n",
    "mentions[\"Date\"]=mentions[\"Date\"].dt.strftime('%m/%d')\n",
    "contingency= pd.crosstab(mentions[\"Date\"], mentions[\"Hurricane\"])"
   ]
  },
  {
   "cell_type": "code",
   "execution_count": 46,
   "metadata": {
    "collapsed": false
   },
   "outputs": [
    {
     "data": {
      "text/html": [
       "<div>\n",
       "<table border=\"1\" class=\"dataframe\">\n",
       "  <thead>\n",
       "    <tr style=\"text-align: right;\">\n",
       "      <th>Hurricane</th>\n",
       "      <th>harvey</th>\n",
       "      <th>irma</th>\n",
       "      <th>maria</th>\n",
       "    </tr>\n",
       "    <tr>\n",
       "      <th>Date</th>\n",
       "      <th></th>\n",
       "      <th></th>\n",
       "      <th></th>\n",
       "    </tr>\n",
       "  </thead>\n",
       "  <tbody>\n",
       "    <tr>\n",
       "      <th>08/23</th>\n",
       "      <td>49</td>\n",
       "      <td>0</td>\n",
       "      <td>0</td>\n",
       "    </tr>\n",
       "    <tr>\n",
       "      <th>08/24</th>\n",
       "      <td>205</td>\n",
       "      <td>0</td>\n",
       "      <td>0</td>\n",
       "    </tr>\n",
       "    <tr>\n",
       "      <th>08/25</th>\n",
       "      <td>511</td>\n",
       "      <td>0</td>\n",
       "      <td>0</td>\n",
       "    </tr>\n",
       "    <tr>\n",
       "      <th>08/26</th>\n",
       "      <td>427</td>\n",
       "      <td>0</td>\n",
       "      <td>0</td>\n",
       "    </tr>\n",
       "    <tr>\n",
       "      <th>08/27</th>\n",
       "      <td>424</td>\n",
       "      <td>0</td>\n",
       "      <td>0</td>\n",
       "    </tr>\n",
       "    <tr>\n",
       "      <th>08/28</th>\n",
       "      <td>825</td>\n",
       "      <td>3</td>\n",
       "      <td>0</td>\n",
       "    </tr>\n",
       "    <tr>\n",
       "      <th>08/29</th>\n",
       "      <td>800</td>\n",
       "      <td>0</td>\n",
       "      <td>0</td>\n",
       "    </tr>\n",
       "    <tr>\n",
       "      <th>08/30</th>\n",
       "      <td>801</td>\n",
       "      <td>29</td>\n",
       "      <td>0</td>\n",
       "    </tr>\n",
       "    <tr>\n",
       "      <th>08/31</th>\n",
       "      <td>581</td>\n",
       "      <td>31</td>\n",
       "      <td>0</td>\n",
       "    </tr>\n",
       "    <tr>\n",
       "      <th>09/01</th>\n",
       "      <td>571</td>\n",
       "      <td>38</td>\n",
       "      <td>0</td>\n",
       "    </tr>\n",
       "    <tr>\n",
       "      <th>09/02</th>\n",
       "      <td>240</td>\n",
       "      <td>16</td>\n",
       "      <td>0</td>\n",
       "    </tr>\n",
       "    <tr>\n",
       "      <th>09/03</th>\n",
       "      <td>35</td>\n",
       "      <td>63</td>\n",
       "      <td>0</td>\n",
       "    </tr>\n",
       "    <tr>\n",
       "      <th>09/04</th>\n",
       "      <td>0</td>\n",
       "      <td>188</td>\n",
       "      <td>0</td>\n",
       "    </tr>\n",
       "    <tr>\n",
       "      <th>09/05</th>\n",
       "      <td>0</td>\n",
       "      <td>606</td>\n",
       "      <td>0</td>\n",
       "    </tr>\n",
       "    <tr>\n",
       "      <th>09/06</th>\n",
       "      <td>0</td>\n",
       "      <td>1017</td>\n",
       "      <td>0</td>\n",
       "    </tr>\n",
       "    <tr>\n",
       "      <th>09/07</th>\n",
       "      <td>0</td>\n",
       "      <td>1164</td>\n",
       "      <td>0</td>\n",
       "    </tr>\n",
       "    <tr>\n",
       "      <th>09/08</th>\n",
       "      <td>0</td>\n",
       "      <td>1144</td>\n",
       "      <td>0</td>\n",
       "    </tr>\n",
       "    <tr>\n",
       "      <th>09/09</th>\n",
       "      <td>0</td>\n",
       "      <td>1123</td>\n",
       "      <td>0</td>\n",
       "    </tr>\n",
       "    <tr>\n",
       "      <th>09/10</th>\n",
       "      <td>0</td>\n",
       "      <td>1080</td>\n",
       "      <td>0</td>\n",
       "    </tr>\n",
       "    <tr>\n",
       "      <th>09/16</th>\n",
       "      <td>0</td>\n",
       "      <td>0</td>\n",
       "      <td>17</td>\n",
       "    </tr>\n",
       "    <tr>\n",
       "      <th>09/17</th>\n",
       "      <td>0</td>\n",
       "      <td>0</td>\n",
       "      <td>89</td>\n",
       "    </tr>\n",
       "    <tr>\n",
       "      <th>09/18</th>\n",
       "      <td>0</td>\n",
       "      <td>0</td>\n",
       "      <td>229</td>\n",
       "    </tr>\n",
       "    <tr>\n",
       "      <th>09/19</th>\n",
       "      <td>0</td>\n",
       "      <td>0</td>\n",
       "      <td>259</td>\n",
       "    </tr>\n",
       "    <tr>\n",
       "      <th>09/20</th>\n",
       "      <td>0</td>\n",
       "      <td>0</td>\n",
       "      <td>285</td>\n",
       "    </tr>\n",
       "    <tr>\n",
       "      <th>09/21</th>\n",
       "      <td>0</td>\n",
       "      <td>0</td>\n",
       "      <td>193</td>\n",
       "    </tr>\n",
       "    <tr>\n",
       "      <th>09/22</th>\n",
       "      <td>0</td>\n",
       "      <td>0</td>\n",
       "      <td>108</td>\n",
       "    </tr>\n",
       "    <tr>\n",
       "      <th>09/23</th>\n",
       "      <td>0</td>\n",
       "      <td>0</td>\n",
       "      <td>53</td>\n",
       "    </tr>\n",
       "    <tr>\n",
       "      <th>09/24</th>\n",
       "      <td>0</td>\n",
       "      <td>0</td>\n",
       "      <td>49</td>\n",
       "    </tr>\n",
       "    <tr>\n",
       "      <th>09/25</th>\n",
       "      <td>0</td>\n",
       "      <td>0</td>\n",
       "      <td>101</td>\n",
       "    </tr>\n",
       "    <tr>\n",
       "      <th>09/26</th>\n",
       "      <td>0</td>\n",
       "      <td>0</td>\n",
       "      <td>110</td>\n",
       "    </tr>\n",
       "    <tr>\n",
       "      <th>09/27</th>\n",
       "      <td>0</td>\n",
       "      <td>0</td>\n",
       "      <td>70</td>\n",
       "    </tr>\n",
       "    <tr>\n",
       "      <th>09/28</th>\n",
       "      <td>0</td>\n",
       "      <td>0</td>\n",
       "      <td>73</td>\n",
       "    </tr>\n",
       "    <tr>\n",
       "      <th>09/29</th>\n",
       "      <td>0</td>\n",
       "      <td>0</td>\n",
       "      <td>79</td>\n",
       "    </tr>\n",
       "    <tr>\n",
       "      <th>09/30</th>\n",
       "      <td>0</td>\n",
       "      <td>0</td>\n",
       "      <td>46</td>\n",
       "    </tr>\n",
       "    <tr>\n",
       "      <th>10/01</th>\n",
       "      <td>0</td>\n",
       "      <td>0</td>\n",
       "      <td>35</td>\n",
       "    </tr>\n",
       "  </tbody>\n",
       "</table>\n",
       "</div>"
      ],
      "text/plain": [
       "Hurricane  harvey   irma   maria\n",
       "Date                            \n",
       "08/23           49      0      0\n",
       "08/24          205      0      0\n",
       "08/25          511      0      0\n",
       "08/26          427      0      0\n",
       "08/27          424      0      0\n",
       "08/28          825      3      0\n",
       "08/29          800      0      0\n",
       "08/30          801     29      0\n",
       "08/31          581     31      0\n",
       "09/01          571     38      0\n",
       "09/02          240     16      0\n",
       "09/03           35     63      0\n",
       "09/04            0    188      0\n",
       "09/05            0    606      0\n",
       "09/06            0   1017      0\n",
       "09/07            0   1164      0\n",
       "09/08            0   1144      0\n",
       "09/09            0   1123      0\n",
       "09/10            0   1080      0\n",
       "09/16            0      0     17\n",
       "09/17            0      0     89\n",
       "09/18            0      0    229\n",
       "09/19            0      0    259\n",
       "09/20            0      0    285\n",
       "09/21            0      0    193\n",
       "09/22            0      0    108\n",
       "09/23            0      0     53\n",
       "09/24            0      0     49\n",
       "09/25            0      0    101\n",
       "09/26            0      0    110\n",
       "09/27            0      0     70\n",
       "09/28            0      0     73\n",
       "09/29            0      0     79\n",
       "09/30            0      0     46\n",
       "10/01            0      0     35"
      ]
     },
     "execution_count": 46,
     "metadata": {},
     "output_type": "execute_result"
    }
   ],
   "source": [
    "contingency"
   ]
  },
  {
   "cell_type": "code",
   "execution_count": 110,
   "metadata": {
    "collapsed": false
   },
   "outputs": [
    {
     "data": {
      "image/png": "[encoded data removed]",
      "text/plain": [
       "<matplotlib.figure.Figure at 0x127c4b470>"
      ]
     },
     "metadata": {},
     "output_type": "display_data"
    }
   ],
   "source": [
    "contingency.plot.area(alpha=0.6, stacked=False)\n",
    "plt.title('Hurricane Season 2017: In the News', loc='left', fontsize=12, color=\"dimgray\")\n",
    "plt.ylabel(\"Mentions\", fontsize=10, color=\"dimgray\")\n",
    "plt.tick_params(axis=\"y\", labelcolor=\"dimgrey\")\n",
    "plt.xlabel(\"\")\n",
    "plt.tick_params(axis=\"x\", labelcolor=\"dimgrey\")\n",
    "arrow_properties = dict(facecolor=\"grey\", arrowstyle='simple')\n",
    "plt.annotate('Harvey hits Texas', xy=(2,511), xytext=(0,850),\n",
    "            arrowprops=arrow_properties, fontsize=10, color=\"dimgray\")\n",
    "plt.annotate('Irma passes over Caribbean', xy=(14,1017), xytext=(1, 1100),\n",
    "            arrowprops=arrow_properties, fontsize=10, color=\"dimgray\")\n",
    "plt.annotate('Irma makes landfall in Florida', xy=(18,1080), xytext=(20,860),\n",
    "            arrowprops=arrow_properties, fontsize=10, color=\"dimgray\")\n",
    "plt.annotate('Maria hits Puerto Rico', xy=(23,285), xytext=(20, 500),\n",
    "            arrowprops=arrow_properties, fontsize=10, color=\"dimgray\")\n",
    "plt.legend(title=None, fontsize='small')\n",
    "plt.show()"
   ]
  },
  {
   "cell_type": "code",
   "execution_count": 186,
   "metadata": {
    "collapsed": false
   },
   "outputs": [
    {
     "data": {
      "text/html": [
       "<div>\n",
       "<table border=\"1\" class=\"dataframe\">\n",
       "  <thead>\n",
       "    <tr style=\"text-align: right;\">\n",
       "      <th></th>\n",
       "      <th>verb</th>\n",
       "      <th>count</th>\n",
       "    </tr>\n",
       "  </thead>\n",
       "  <tbody>\n",
       "    <tr>\n",
       "      <th>0</th>\n",
       "      <td>strengthens</td>\n",
       "      <td>32</td>\n",
       "    </tr>\n",
       "    <tr>\n",
       "      <th>1</th>\n",
       "      <td>hits</td>\n",
       "      <td>16</td>\n",
       "    </tr>\n",
       "    <tr>\n",
       "      <th>2</th>\n",
       "      <td>slams</td>\n",
       "      <td>15</td>\n",
       "    </tr>\n",
       "    <tr>\n",
       "      <th>3</th>\n",
       "      <td>nears</td>\n",
       "      <td>14</td>\n",
       "    </tr>\n",
       "    <tr>\n",
       "      <th>4</th>\n",
       "      <td>makes</td>\n",
       "      <td>13</td>\n",
       "    </tr>\n",
       "    <tr>\n",
       "      <th>5</th>\n",
       "      <td>floods</td>\n",
       "      <td>10</td>\n",
       "    </tr>\n",
       "    <tr>\n",
       "      <th>6</th>\n",
       "      <td>forces</td>\n",
       "      <td>10</td>\n",
       "    </tr>\n",
       "    <tr>\n",
       "      <th>7</th>\n",
       "      <td>approaches</td>\n",
       "      <td>9</td>\n",
       "    </tr>\n",
       "    <tr>\n",
       "      <th>8</th>\n",
       "      <td>intensifies</td>\n",
       "      <td>8</td>\n",
       "    </tr>\n",
       "    <tr>\n",
       "      <th>9</th>\n",
       "      <td>regains</td>\n",
       "      <td>8</td>\n",
       "    </tr>\n",
       "  </tbody>\n",
       "</table>\n",
       "</div>"
      ],
      "text/plain": [
       "          verb  count\n",
       "0  strengthens     32\n",
       "1         hits     16\n",
       "2        slams     15\n",
       "3        nears     14\n",
       "4        makes     13\n",
       "5       floods     10\n",
       "6       forces     10\n",
       "7   approaches      9\n",
       "8  intensifies      8\n",
       "9      regains      8"
      ]
     },
     "execution_count": 186,
     "metadata": {},
     "output_type": "execute_result"
    }
   ],
   "source": [
    "hbigrams=pd.read_excel('/Users/anna/Desktop/PRISMOJI/mcbigrams.xlsx', \n",
    "                     sheetname=\"Harvey\")\n",
    "hbigrams=pd.DataFrame(hbigrams)\n",
    "hcounts=hbigrams['Verb'].value_counts()\n",
    "hcountsdf=pd.DataFrame(hcounts[:10]).reset_index()\n",
    "hcountsdf.columns=(['verb', 'count'])\n",
    "hcountsdf"
   ]
  },
  {
   "cell_type": "code",
   "execution_count": 183,
   "metadata": {
    "collapsed": false
   },
   "outputs": [
    {
     "data": {
      "text/html": [
       "<div>\n",
       "<table border=\"1\" class=\"dataframe\">\n",
       "  <thead>\n",
       "    <tr style=\"text-align: right;\">\n",
       "      <th></th>\n",
       "      <th>verb</th>\n",
       "      <th>count</th>\n",
       "    </tr>\n",
       "  </thead>\n",
       "  <tbody>\n",
       "    <tr>\n",
       "      <th>0</th>\n",
       "      <td>strengthens</td>\n",
       "      <td>48</td>\n",
       "    </tr>\n",
       "    <tr>\n",
       "      <th>1</th>\n",
       "      <td>approaches</td>\n",
       "      <td>26</td>\n",
       "    </tr>\n",
       "    <tr>\n",
       "      <th>2</th>\n",
       "      <td>looms</td>\n",
       "      <td>16</td>\n",
       "    </tr>\n",
       "    <tr>\n",
       "      <th>3</th>\n",
       "      <td>makes</td>\n",
       "      <td>15</td>\n",
       "    </tr>\n",
       "    <tr>\n",
       "      <th>4</th>\n",
       "      <td>slams</td>\n",
       "      <td>15</td>\n",
       "    </tr>\n",
       "    <tr>\n",
       "      <th>5</th>\n",
       "      <td>forms</td>\n",
       "      <td>14</td>\n",
       "    </tr>\n",
       "    <tr>\n",
       "      <th>6</th>\n",
       "      <td>nears</td>\n",
       "      <td>13</td>\n",
       "    </tr>\n",
       "    <tr>\n",
       "      <th>7</th>\n",
       "      <td>hits</td>\n",
       "      <td>13</td>\n",
       "    </tr>\n",
       "    <tr>\n",
       "      <th>8</th>\n",
       "      <td>bears</td>\n",
       "      <td>10</td>\n",
       "    </tr>\n",
       "    <tr>\n",
       "      <th>9</th>\n",
       "      <td>heads</td>\n",
       "      <td>9</td>\n",
       "    </tr>\n",
       "  </tbody>\n",
       "</table>\n",
       "</div>"
      ],
      "text/plain": [
       "          verb  count\n",
       "0  strengthens     48\n",
       "1   approaches     26\n",
       "2        looms     16\n",
       "3        makes     15\n",
       "4        slams     15\n",
       "5        forms     14\n",
       "6        nears     13\n",
       "7         hits     13\n",
       "8        bears     10\n",
       "9        heads      9"
      ]
     },
     "execution_count": 183,
     "metadata": {},
     "output_type": "execute_result"
    }
   ],
   "source": [
    "ibigrams=pd.read_excel('/Users/anna/Desktop/PRISMOJI/mcbigrams.xlsx', \n",
    "                     sheetname=\"Irma\")\n",
    "ibigrams=pd.DataFrame(ibigrams)\n",
    "icountsdf=pd.DataFrame(icounts[:10]).reset_index()\n",
    "icountsdf.columns=(['verb', 'count'])\n",
    "icountsdf"
   ]
  },
  {
   "cell_type": "code",
   "execution_count": 178,
   "metadata": {
    "collapsed": false
   },
   "outputs": [
    {
     "data": {
      "text/html": [
       "<div>\n",
       "<table border=\"1\" class=\"dataframe\">\n",
       "  <thead>\n",
       "    <tr style=\"text-align: right;\">\n",
       "      <th></th>\n",
       "      <th>verb</th>\n",
       "      <th>count</th>\n",
       "    </tr>\n",
       "  </thead>\n",
       "  <tbody>\n",
       "    <tr>\n",
       "      <th>0</th>\n",
       "      <td>grows</td>\n",
       "      <td>21</td>\n",
       "    </tr>\n",
       "    <tr>\n",
       "      <th>1</th>\n",
       "      <td>makes</td>\n",
       "      <td>18</td>\n",
       "    </tr>\n",
       "    <tr>\n",
       "      <th>2</th>\n",
       "      <td>hits</td>\n",
       "      <td>17</td>\n",
       "    </tr>\n",
       "    <tr>\n",
       "      <th>3</th>\n",
       "      <td>strengthens</td>\n",
       "      <td>13</td>\n",
       "    </tr>\n",
       "    <tr>\n",
       "      <th>4</th>\n",
       "      <td>weakens</td>\n",
       "      <td>12</td>\n",
       "    </tr>\n",
       "    <tr>\n",
       "      <th>5</th>\n",
       "      <td>lashes</td>\n",
       "      <td>11</td>\n",
       "    </tr>\n",
       "    <tr>\n",
       "      <th>6</th>\n",
       "      <td>slams</td>\n",
       "      <td>11</td>\n",
       "    </tr>\n",
       "    <tr>\n",
       "      <th>7</th>\n",
       "      <td>heads</td>\n",
       "      <td>10</td>\n",
       "    </tr>\n",
       "    <tr>\n",
       "      <th>8</th>\n",
       "      <td>becomes</td>\n",
       "      <td>9</td>\n",
       "    </tr>\n",
       "    <tr>\n",
       "      <th>9</th>\n",
       "      <td>churns</td>\n",
       "      <td>9</td>\n",
       "    </tr>\n",
       "  </tbody>\n",
       "</table>\n",
       "</div>"
      ],
      "text/plain": [
       "          verb  count\n",
       "0        grows     21\n",
       "1        makes     18\n",
       "2         hits     17\n",
       "3  strengthens     13\n",
       "4      weakens     12\n",
       "5       lashes     11\n",
       "6        slams     11\n",
       "7        heads     10\n",
       "8      becomes      9\n",
       "9       churns      9"
      ]
     },
     "execution_count": 178,
     "metadata": {},
     "output_type": "execute_result"
    }
   ],
   "source": [
    "mbigrams=pd.read_excel('/Users/anna/Desktop/PRISMOJI/mcbigrams.xlsx', \n",
    "                     sheetname=\"Maria\")\n",
    "mbigrams=pd.DataFrame(mbigrams)\n",
    "mcounts=mbigrams['Verb'].value_counts()\n",
    "mcountsdf=pd.DataFrame(mcounts[:10]).reset_index()\n",
    "mcountsdf.columns=(['verb', 'count'])\n",
    "mcountsdf"
   ]
  },
  {
   "cell_type": "code",
   "execution_count": 194,
   "metadata": {
    "collapsed": false
   },
   "outputs": [
    {
     "data": {
      "image/png": "[encoded data removed]",
      "text/plain": [
       "<matplotlib.figure.Figure at 0x126d2e0f0>"
      ]
     },
     "metadata": {},
     "output_type": "display_data"
    }
   ],
   "source": [
    "mariacloud = WordCloud(background_color='white',width=1200,\n",
    "                  height=800).generate(\" \".join(mcountsdf['verb'].values))\n",
    "plt.imshow(mariacloud, alpha=0.8)\n",
    "plt.axis('off')\n",
    "plt.show()"
   ]
  },
  {
   "cell_type": "code",
   "execution_count": 195,
   "metadata": {
    "collapsed": false
   },
   "outputs": [
    {
     "data": {
      "image/png": "[encoded data removed]",
      "text/plain": [
       "<matplotlib.figure.Figure at 0x126ce3278>"
      ]
     },
     "metadata": {},
     "output_type": "display_data"
    }
   ],
   "source": [
    "irmacloud = WordCloud(background_color='white',width=1200,\n",
    "                  height=800).generate(\" \".join(icountsdf['verb'].values))\n",
    "plt.imshow(irmacloud, alpha=0.8)\n",
    "plt.axis('off')\n",
    "plt.show()"
   ]
  },
  {
   "cell_type": "code",
   "execution_count": null,
   "metadata": {
    "collapsed": true
   },
   "outputs": [],
   "source": []
  }
 ],
 "metadata": {
  "anaconda-cloud": {},
  "kernelspec": {
   "display_name": "Python [conda root]",
   "language": "python",
   "name": "conda-root-py"
  },
  "language_info": {
   "codemirror_mode": {
    "name": "ipython",
    "version": 3
   },
   "file_extension": ".py",
   "mimetype": "text/x-python",
   "name": "python",
   "nbconvert_exporter": "python",
   "pygments_lexer": "ipython3",
   "version": "3.5.2"
  }
 },
 "nbformat": 4,
 "nbformat_minor": 2
}
